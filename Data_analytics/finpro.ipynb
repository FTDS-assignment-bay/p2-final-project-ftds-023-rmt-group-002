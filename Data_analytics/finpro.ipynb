{
 "cells": [
  {
   "cell_type": "markdown",
   "metadata": {},
   "source": [
    "## I Import Library"
   ]
  },
  {
   "cell_type": "code",
   "execution_count": 1,
   "metadata": {},
   "outputs": [],
   "source": [
    "import pandas as pd\n",
    "import matplotlib.pyplot as plt\n",
    "import matplotlib.ticker as mticker\n",
    "import numpy as np\n"
   ]
  },
  {
   "cell_type": "markdown",
   "metadata": {},
   "source": [
    "# II Data Loading"
   ]
  },
  {
   "cell_type": "code",
   "execution_count": 2,
   "metadata": {},
   "outputs": [
    {
     "data": {
      "text/html": [
       "<div>\n",
       "<style scoped>\n",
       "    .dataframe tbody tr th:only-of-type {\n",
       "        vertical-align: middle;\n",
       "    }\n",
       "\n",
       "    .dataframe tbody tr th {\n",
       "        vertical-align: top;\n",
       "    }\n",
       "\n",
       "    .dataframe thead th {\n",
       "        text-align: right;\n",
       "    }\n",
       "</style>\n",
       "<table border=\"1\" class=\"dataframe\">\n",
       "  <thead>\n",
       "    <tr style=\"text-align: right;\">\n",
       "      <th></th>\n",
       "      <th>Tanggal</th>\n",
       "      <th>Harga</th>\n",
       "    </tr>\n",
       "  </thead>\n",
       "  <tbody>\n",
       "    <tr>\n",
       "      <th>0</th>\n",
       "      <td>2023-10-29</td>\n",
       "      <td>23750.0</td>\n",
       "    </tr>\n",
       "    <tr>\n",
       "      <th>1</th>\n",
       "      <td>2023-10-22</td>\n",
       "      <td>23505.0</td>\n",
       "    </tr>\n",
       "    <tr>\n",
       "      <th>2</th>\n",
       "      <td>2023-10-15</td>\n",
       "      <td>23880.0</td>\n",
       "    </tr>\n",
       "    <tr>\n",
       "      <th>3</th>\n",
       "      <td>2023-10-08</td>\n",
       "      <td>22990.0</td>\n",
       "    </tr>\n",
       "    <tr>\n",
       "      <th>4</th>\n",
       "      <td>2023-10-01</td>\n",
       "      <td>22410.0</td>\n",
       "    </tr>\n",
       "  </tbody>\n",
       "</table>\n",
       "</div>"
      ],
      "text/plain": [
       "      Tanggal    Harga\n",
       "0  2023-10-29  23750.0\n",
       "1  2023-10-22  23505.0\n",
       "2  2023-10-15  23880.0\n",
       "3  2023-10-08  22990.0\n",
       "4  2023-10-01  22410.0"
      ]
     },
     "execution_count": 2,
     "metadata": {},
     "output_type": "execute_result"
    }
   ],
   "source": [
    "df = pd.read_csv('C:/Users/USER/anaconda3/envs/rmt-23/Final_project/histori_perak_cleaned.csv')\n",
    "df.head()"
   ]
  },
  {
   "cell_type": "code",
   "execution_count": 16,
   "metadata": {},
   "outputs": [],
   "source": [
    "df_tokped = pd.read_csv('C:/Users/USER/anaconda3/envs/rmt-23/Final_project/Tokped_clean.csv')"
   ]
  },
  {
   "cell_type": "code",
   "execution_count": 17,
   "metadata": {},
   "outputs": [],
   "source": [
    "df_bupak = pd.read_csv('C:/Users/USER/anaconda3/envs/rmt-23/Final_project/Bukalapak_clean.csv')"
   ]
  },
  {
   "cell_type": "code",
   "execution_count": 18,
   "metadata": {},
   "outputs": [],
   "source": [
    "df_blibli = pd.read_csv('C:/Users/USER/anaconda3/envs/rmt-23/Final_project/Blibli_clean.csv')"
   ]
  },
  {
   "cell_type": "markdown",
   "metadata": {},
   "source": [
    "## III Data Cleaning"
   ]
  },
  {
   "cell_type": "code",
   "execution_count": 3,
   "metadata": {},
   "outputs": [
    {
     "name": "stdout",
     "output_type": "stream",
     "text": [
      "<class 'pandas.core.frame.DataFrame'>\n",
      "RangeIndex: 527 entries, 0 to 526\n",
      "Data columns (total 2 columns):\n",
      " #   Column   Non-Null Count  Dtype  \n",
      "---  ------   --------------  -----  \n",
      " 0   Tanggal  527 non-null    object \n",
      " 1   Harga    527 non-null    float64\n",
      "dtypes: float64(1), object(1)\n",
      "memory usage: 8.4+ KB\n"
     ]
    }
   ],
   "source": [
    "df.info()"
   ]
  },
  {
   "cell_type": "code",
   "execution_count": 4,
   "metadata": {},
   "outputs": [
    {
     "data": {
      "text/html": [
       "<div>\n",
       "<style scoped>\n",
       "    .dataframe tbody tr th:only-of-type {\n",
       "        vertical-align: middle;\n",
       "    }\n",
       "\n",
       "    .dataframe tbody tr th {\n",
       "        vertical-align: top;\n",
       "    }\n",
       "\n",
       "    .dataframe thead th {\n",
       "        text-align: right;\n",
       "    }\n",
       "</style>\n",
       "<table border=\"1\" class=\"dataframe\">\n",
       "  <thead>\n",
       "    <tr style=\"text-align: right;\">\n",
       "      <th></th>\n",
       "      <th>Tanggal</th>\n",
       "      <th>Harga</th>\n",
       "    </tr>\n",
       "  </thead>\n",
       "  <tbody>\n",
       "    <tr>\n",
       "      <th>0</th>\n",
       "      <td>2023-10-29</td>\n",
       "      <td>23750.0</td>\n",
       "    </tr>\n",
       "    <tr>\n",
       "      <th>1</th>\n",
       "      <td>2023-10-22</td>\n",
       "      <td>23505.0</td>\n",
       "    </tr>\n",
       "    <tr>\n",
       "      <th>2</th>\n",
       "      <td>2023-10-15</td>\n",
       "      <td>23880.0</td>\n",
       "    </tr>\n",
       "    <tr>\n",
       "      <th>3</th>\n",
       "      <td>2023-10-08</td>\n",
       "      <td>22990.0</td>\n",
       "    </tr>\n",
       "    <tr>\n",
       "      <th>4</th>\n",
       "      <td>2023-10-01</td>\n",
       "      <td>22410.0</td>\n",
       "    </tr>\n",
       "    <tr>\n",
       "      <th>...</th>\n",
       "      <td>...</td>\n",
       "      <td>...</td>\n",
       "    </tr>\n",
       "    <tr>\n",
       "      <th>522</th>\n",
       "      <td>2013-12-08</td>\n",
       "      <td>20480.0</td>\n",
       "    </tr>\n",
       "    <tr>\n",
       "      <th>523</th>\n",
       "      <td>2013-12-01</td>\n",
       "      <td>20010.0</td>\n",
       "    </tr>\n",
       "    <tr>\n",
       "      <th>524</th>\n",
       "      <td>2013-11-24</td>\n",
       "      <td>20300.0</td>\n",
       "    </tr>\n",
       "    <tr>\n",
       "      <th>525</th>\n",
       "      <td>2013-11-17</td>\n",
       "      <td>20800.0</td>\n",
       "    </tr>\n",
       "    <tr>\n",
       "      <th>526</th>\n",
       "      <td>2013-11-10</td>\n",
       "      <td>21450.0</td>\n",
       "    </tr>\n",
       "  </tbody>\n",
       "</table>\n",
       "<p>527 rows × 2 columns</p>\n",
       "</div>"
      ],
      "text/plain": [
       "        Tanggal    Harga\n",
       "0    2023-10-29  23750.0\n",
       "1    2023-10-22  23505.0\n",
       "2    2023-10-15  23880.0\n",
       "3    2023-10-08  22990.0\n",
       "4    2023-10-01  22410.0\n",
       "..          ...      ...\n",
       "522  2013-12-08  20480.0\n",
       "523  2013-12-01  20010.0\n",
       "524  2013-11-24  20300.0\n",
       "525  2013-11-17  20800.0\n",
       "526  2013-11-10  21450.0\n",
       "\n",
       "[527 rows x 2 columns]"
      ]
     },
     "execution_count": 4,
     "metadata": {},
     "output_type": "execute_result"
    }
   ],
   "source": [
    "df.dropna(inplace=True)\n",
    "\n",
    "df.drop_duplicates()"
   ]
  },
  {
   "cell_type": "code",
   "execution_count": 5,
   "metadata": {},
   "outputs": [],
   "source": [
    "df['Tanggal'] = pd.to_datetime(df['Tanggal'])\n",
    "\n",
    "# Extract day, month, and year into separate columns\n",
    "df['Day'] = df['Tanggal'].dt.day\n",
    "df['Month'] = df['Tanggal'].dt.month\n",
    "df['Year'] = df['Tanggal'].dt.year\n",
    "\n",
    "\n",
    "df.set_index('Tanggal', inplace=True)\n",
    "\n",
    "pergantian_harga_quarter = df.resample('Q').agg({'Harga': 'first'}).diff()"
   ]
  },
  {
   "cell_type": "code",
   "execution_count": 6,
   "metadata": {},
   "outputs": [
    {
     "data": {
      "text/html": [
       "<div>\n",
       "<style scoped>\n",
       "    .dataframe tbody tr th:only-of-type {\n",
       "        vertical-align: middle;\n",
       "    }\n",
       "\n",
       "    .dataframe tbody tr th {\n",
       "        vertical-align: top;\n",
       "    }\n",
       "\n",
       "    .dataframe thead th {\n",
       "        text-align: right;\n",
       "    }\n",
       "</style>\n",
       "<table border=\"1\" class=\"dataframe\">\n",
       "  <thead>\n",
       "    <tr style=\"text-align: right;\">\n",
       "      <th></th>\n",
       "      <th>Harga</th>\n",
       "      <th>Day</th>\n",
       "      <th>Month</th>\n",
       "      <th>Year</th>\n",
       "    </tr>\n",
       "    <tr>\n",
       "      <th>Tanggal</th>\n",
       "      <th></th>\n",
       "      <th></th>\n",
       "      <th></th>\n",
       "      <th></th>\n",
       "    </tr>\n",
       "  </thead>\n",
       "  <tbody>\n",
       "    <tr>\n",
       "      <th>2023-10-29</th>\n",
       "      <td>23750.0</td>\n",
       "      <td>29</td>\n",
       "      <td>10</td>\n",
       "      <td>2023</td>\n",
       "    </tr>\n",
       "    <tr>\n",
       "      <th>2023-10-22</th>\n",
       "      <td>23505.0</td>\n",
       "      <td>22</td>\n",
       "      <td>10</td>\n",
       "      <td>2023</td>\n",
       "    </tr>\n",
       "    <tr>\n",
       "      <th>2023-10-15</th>\n",
       "      <td>23880.0</td>\n",
       "      <td>15</td>\n",
       "      <td>10</td>\n",
       "      <td>2023</td>\n",
       "    </tr>\n",
       "    <tr>\n",
       "      <th>2023-10-08</th>\n",
       "      <td>22990.0</td>\n",
       "      <td>8</td>\n",
       "      <td>10</td>\n",
       "      <td>2023</td>\n",
       "    </tr>\n",
       "    <tr>\n",
       "      <th>2023-10-01</th>\n",
       "      <td>22410.0</td>\n",
       "      <td>1</td>\n",
       "      <td>10</td>\n",
       "      <td>2023</td>\n",
       "    </tr>\n",
       "  </tbody>\n",
       "</table>\n",
       "</div>"
      ],
      "text/plain": [
       "              Harga  Day  Month  Year\n",
       "Tanggal                              \n",
       "2023-10-29  23750.0   29     10  2023\n",
       "2023-10-22  23505.0   22     10  2023\n",
       "2023-10-15  23880.0   15     10  2023\n",
       "2023-10-08  22990.0    8     10  2023\n",
       "2023-10-01  22410.0    1     10  2023"
      ]
     },
     "execution_count": 6,
     "metadata": {},
     "output_type": "execute_result"
    }
   ],
   "source": [
    "df.head()"
   ]
  },
  {
   "cell_type": "code",
   "execution_count": 7,
   "metadata": {},
   "outputs": [
    {
     "data": {
      "text/html": [
       "<div>\n",
       "<style scoped>\n",
       "    .dataframe tbody tr th:only-of-type {\n",
       "        vertical-align: middle;\n",
       "    }\n",
       "\n",
       "    .dataframe tbody tr th {\n",
       "        vertical-align: top;\n",
       "    }\n",
       "\n",
       "    .dataframe thead th {\n",
       "        text-align: right;\n",
       "    }\n",
       "</style>\n",
       "<table border=\"1\" class=\"dataframe\">\n",
       "  <thead>\n",
       "    <tr style=\"text-align: right;\">\n",
       "      <th></th>\n",
       "      <th>Harga</th>\n",
       "      <th>Day</th>\n",
       "      <th>Month</th>\n",
       "      <th>Year</th>\n",
       "    </tr>\n",
       "    <tr>\n",
       "      <th>Tanggal</th>\n",
       "      <th></th>\n",
       "      <th></th>\n",
       "      <th></th>\n",
       "      <th></th>\n",
       "    </tr>\n",
       "  </thead>\n",
       "  <tbody>\n",
       "    <tr>\n",
       "      <th>2023-10-29</th>\n",
       "      <td>23750.0</td>\n",
       "      <td>29</td>\n",
       "      <td>10</td>\n",
       "      <td>2023</td>\n",
       "    </tr>\n",
       "    <tr>\n",
       "      <th>2023-10-22</th>\n",
       "      <td>23505.0</td>\n",
       "      <td>22</td>\n",
       "      <td>10</td>\n",
       "      <td>2023</td>\n",
       "    </tr>\n",
       "    <tr>\n",
       "      <th>2023-10-15</th>\n",
       "      <td>23880.0</td>\n",
       "      <td>15</td>\n",
       "      <td>10</td>\n",
       "      <td>2023</td>\n",
       "    </tr>\n",
       "    <tr>\n",
       "      <th>2023-10-08</th>\n",
       "      <td>22990.0</td>\n",
       "      <td>8</td>\n",
       "      <td>10</td>\n",
       "      <td>2023</td>\n",
       "    </tr>\n",
       "    <tr>\n",
       "      <th>2023-10-01</th>\n",
       "      <td>22410.0</td>\n",
       "      <td>1</td>\n",
       "      <td>10</td>\n",
       "      <td>2023</td>\n",
       "    </tr>\n",
       "  </tbody>\n",
       "</table>\n",
       "</div>"
      ],
      "text/plain": [
       "              Harga  Day  Month  Year\n",
       "Tanggal                              \n",
       "2023-10-29  23750.0   29     10  2023\n",
       "2023-10-22  23505.0   22     10  2023\n",
       "2023-10-15  23880.0   15     10  2023\n",
       "2023-10-08  22990.0    8     10  2023\n",
       "2023-10-01  22410.0    1     10  2023"
      ]
     },
     "execution_count": 7,
     "metadata": {},
     "output_type": "execute_result"
    }
   ],
   "source": [
    "df.head()"
   ]
  },
  {
   "cell_type": "markdown",
   "metadata": {},
   "source": [
    "## IV Exploratory Data Analysis (EDA)"
   ]
  },
  {
   "cell_type": "code",
   "execution_count": 8,
   "metadata": {},
   "outputs": [
    {
     "data": {
      "text/html": [
       "<div>\n",
       "<style scoped>\n",
       "    .dataframe tbody tr th:only-of-type {\n",
       "        vertical-align: middle;\n",
       "    }\n",
       "\n",
       "    .dataframe tbody tr th {\n",
       "        vertical-align: top;\n",
       "    }\n",
       "\n",
       "    .dataframe thead th {\n",
       "        text-align: right;\n",
       "    }\n",
       "</style>\n",
       "<table border=\"1\" class=\"dataframe\">\n",
       "  <thead>\n",
       "    <tr style=\"text-align: right;\">\n",
       "      <th></th>\n",
       "      <th>Harga</th>\n",
       "      <th>Day</th>\n",
       "      <th>Month</th>\n",
       "      <th>Year</th>\n",
       "    </tr>\n",
       "  </thead>\n",
       "  <tbody>\n",
       "    <tr>\n",
       "      <th>count</th>\n",
       "      <td>527.000000</td>\n",
       "      <td>527.000000</td>\n",
       "      <td>527.000000</td>\n",
       "      <td>527.000000</td>\n",
       "    </tr>\n",
       "    <tr>\n",
       "      <th>mean</th>\n",
       "      <td>19651.925996</td>\n",
       "      <td>15.645161</td>\n",
       "      <td>6.510436</td>\n",
       "      <td>2018.313093</td>\n",
       "    </tr>\n",
       "    <tr>\n",
       "      <th>std</th>\n",
       "      <td>3942.976947</td>\n",
       "      <td>8.856551</td>\n",
       "      <td>3.465663</td>\n",
       "      <td>2.885436</td>\n",
       "    </tr>\n",
       "    <tr>\n",
       "      <th>min</th>\n",
       "      <td>14205.000000</td>\n",
       "      <td>1.000000</td>\n",
       "      <td>1.000000</td>\n",
       "      <td>2013.000000</td>\n",
       "    </tr>\n",
       "    <tr>\n",
       "      <th>25%</th>\n",
       "      <td>16637.500000</td>\n",
       "      <td>8.000000</td>\n",
       "      <td>4.000000</td>\n",
       "      <td>2016.000000</td>\n",
       "    </tr>\n",
       "    <tr>\n",
       "      <th>50%</th>\n",
       "      <td>18185.000000</td>\n",
       "      <td>16.000000</td>\n",
       "      <td>7.000000</td>\n",
       "      <td>2018.000000</td>\n",
       "    </tr>\n",
       "    <tr>\n",
       "      <th>75%</th>\n",
       "      <td>22885.000000</td>\n",
       "      <td>23.000000</td>\n",
       "      <td>10.000000</td>\n",
       "      <td>2021.000000</td>\n",
       "    </tr>\n",
       "    <tr>\n",
       "      <th>max</th>\n",
       "      <td>30350.000000</td>\n",
       "      <td>31.000000</td>\n",
       "      <td>12.000000</td>\n",
       "      <td>2023.000000</td>\n",
       "    </tr>\n",
       "  </tbody>\n",
       "</table>\n",
       "</div>"
      ],
      "text/plain": [
       "              Harga         Day       Month         Year\n",
       "count    527.000000  527.000000  527.000000   527.000000\n",
       "mean   19651.925996   15.645161    6.510436  2018.313093\n",
       "std     3942.976947    8.856551    3.465663     2.885436\n",
       "min    14205.000000    1.000000    1.000000  2013.000000\n",
       "25%    16637.500000    8.000000    4.000000  2016.000000\n",
       "50%    18185.000000   16.000000    7.000000  2018.000000\n",
       "75%    22885.000000   23.000000   10.000000  2021.000000\n",
       "max    30350.000000   31.000000   12.000000  2023.000000"
      ]
     },
     "execution_count": 8,
     "metadata": {},
     "output_type": "execute_result"
    }
   ],
   "source": [
    "df.describe()"
   ]
  },
  {
   "cell_type": "markdown",
   "metadata": {},
   "source": [
    "rata-rata (mean): 19651.925996\n",
    "median : 18185.000000\n",
    "standard deviasi : 3942.976947\n",
    "\n",
    "dari sini bisa dilihat bahwa rata-rata harga perak ada di angka Rp.19651.92, harga tengahnya ada di Rp.18185.00, dan standard deviasinya di angka Rp. 3942.976947, memnunjukkan variasi harga dari rata-rata harga."
   ]
  },
  {
   "cell_type": "code",
   "execution_count": 9,
   "metadata": {},
   "outputs": [
    {
     "name": "stdout",
     "output_type": "stream",
     "text": [
      "Year\n",
      "2013   20,484.38\n",
      "2014   19,548.77\n",
      "2015   16,127.55\n",
      "2016   17,638.58\n",
      "2017   17,386.73\n",
      "2018   15,995.09\n",
      "2019   16,561.63\n",
      "2020   21,669.62\n",
      "2021   25,903.65\n",
      "2022   22,520.38\n",
      "2023   24,075.47\n",
      "Name: Harga, dtype: float64\n"
     ]
    }
   ],
   "source": [
    "tahunan = df.groupby('Year')['Harga'].mean()\n",
    "# Mengatur opsi penulisan angka dengan 2 digit di belakang koma dan menambahkan simbol Rp\n",
    "pd.options.display.float_format = '{:,.2f}'.format\n",
    "print(tahunan)"
   ]
  },
  {
   "cell_type": "markdown",
   "metadata": {},
   "source": [
    "dari tren tahunan diatas, harga perak per gramnya (Rp) tidak mengalami peningkatan yang drastis, ada juga momen dimana perak harganya jatuh. terlihat harga awal 2013 ada di angka Rp 20.484.38 dan 2 tahun berikutnya harganya menurun  ke angka Rp 16.127,55. kembali naik 1 tahun dan turun sampai tahun 2018, lalu ada konsistensi kenaikan harga dari tahun 2019 sampai 2021 dimana harganya  ada di tahun 25.903.65 dan ada turun naik sampai 2023"
   ]
  },
  {
   "cell_type": "code",
   "execution_count": 11,
   "metadata": {},
   "outputs": [
    {
     "data": {
      "image/png": "[encoded data removed]",
      "text/plain": [
       "<Figure size 800x300 with 1 Axes>"
      ]
     },
     "metadata": {},
     "output_type": "display_data"
    }
   ],
   "source": [
    "# Membuat plot\n",
    "plt.figure(figsize=(8, 3))\n",
    "plt.plot(pergantian_harga_quarter.index, pergantian_harga_quarter['Harga'], marker='o', linestyle='-')\n",
    "plt.title('Kenaikan Harga Perak Tiap Quarter')\n",
    "plt.xlabel('Quarter')\n",
    "plt.ylabel('Perbedaan Harga')\n",
    "plt.grid(True)\n",
    "plt.xticks(rotation=45)\n",
    "plt.tight_layout()"
   ]
  },
  {
   "cell_type": "markdown",
   "metadata": {},
   "source": [
    "Data kenaikan harga perak tiap quarter dari tahun 2013 hingga 2023 mencerminkan fluktuasi harga yang tidak terlalu signifikan. Tidak terdapat tren yang konsisten, melainkan fluktuasi harga yang tidak teratur. Beberapa quarter mengalami peningkatan harga yang lumayan tinggi seperti pada pertengahan q3 2016-2017 dan pada awal tahun 2021, sementara ada penurunan harga yang, lumayan signifikan lain ada pada tahun 2015 awal, pertengahan tahun 2020,2021, awal tahun 2022, dan akhir tahun 2022. "
   ]
  },
  {
   "cell_type": "code",
   "execution_count": 13,
   "metadata": {},
   "outputs": [
    {
     "name": "stdout",
     "output_type": "stream",
     "text": [
      "Volatilitas Harian Harga Perak: 3.29%\n"
     ]
    }
   ],
   "source": [
    "# Menghitung perubahan persentase harian dalam harga Perak\n",
    "df['Daily_Return'] = df['Harga'].pct_change()\n",
    "\n",
    "# Menghitung deviasi standar dari perubahan persentase harian\n",
    "volatility = np.std(df['Daily_Return'])\n",
    "\n",
    "print(f'Volatilitas Harian Harga Perak: {volatility:.2%}')"
   ]
  },
  {
   "cell_type": "markdown",
   "metadata": {},
   "source": [
    "volatilitas harian harga Perak sebesar 3.29% menunjukkan bahwa harga Perak cenderung mengalami fluktuasi harian sekitar 3.29% dari nilai rata-rata historisnya."
   ]
  },
  {
   "cell_type": "code",
   "execution_count": 23,
   "metadata": {},
   "outputs": [
    {
     "name": "stdout",
     "output_type": "stream",
     "text": [
      "total seller tokopedia: 182\n",
      "total seller blibli: 10\n",
      "total seller bukalapak: 37\n"
     ]
    }
   ],
   "source": [
    "seller_tokped = df_tokped['seller'].count()\n",
    "seller_blibli = df_blibli['seller'].count()\n",
    "seller_bupak = df_bupak['seller'].count()\n",
    "\n",
    "print(f\"total seller tokopedia:\", seller_tokped)\n",
    "print(f\"total seller blibli:\", seller_blibli)\n",
    "print(f\"total seller bukalapak:\", seller_bupak)"
   ]
  },
  {
   "cell_type": "code",
   "execution_count": 24,
   "metadata": {},
   "outputs": [
    {
     "data": {
      "image/png": "[encoded data removed]",
      "text/plain": [
       "<Figure size 800x600 with 1 Axes>"
      ]
     },
     "metadata": {},
     "output_type": "display_data"
    }
   ],
   "source": [
    "unique_sellers_count = {\n",
    "    'tokped': len(df_tokped['seller'].unique()),\n",
    "    'blibli': len(df_blibli['seller'].unique()),\n",
    "    'bukalapak': len(df_bupak['seller'].unique())\n",
    "}\n",
    "plt.figure(figsize=(8, 6))\n",
    "plt.bar(unique_sellers_count.keys(), unique_sellers_count.values(), color='skyblue')\n",
    "plt.xlabel('Store')\n",
    "plt.ylabel('Number of Unique Sellers')\n",
    "plt.title('Comparison of Unique Sellers in Each Store')\n",
    "plt.show()\n"
   ]
  },
  {
   "cell_type": "markdown",
   "metadata": {},
   "source": [
    "dari hasil pengecekan seller diatas, data seller paling banyak berada pada tokopedia, diikuti oleh buka lapak dan yang terakhir adalah blibli"
   ]
  },
  {
   "cell_type": "code",
   "execution_count": 19,
   "metadata": {},
   "outputs": [
    {
     "data": {
      "text/html": [
       "<div>\n",
       "<style scoped>\n",
       "    .dataframe tbody tr th:only-of-type {\n",
       "        vertical-align: middle;\n",
       "    }\n",
       "\n",
       "    .dataframe tbody tr th {\n",
       "        vertical-align: top;\n",
       "    }\n",
       "\n",
       "    .dataframe thead th {\n",
       "        text-align: right;\n",
       "    }\n",
       "</style>\n",
       "<table border=\"1\" class=\"dataframe\">\n",
       "  <thead>\n",
       "    <tr style=\"text-align: right;\">\n",
       "      <th></th>\n",
       "      <th>Unnamed: 0</th>\n",
       "      <th>product_name</th>\n",
       "      <th>price</th>\n",
       "      <th>seller</th>\n",
       "      <th>location</th>\n",
       "      <th>number_sold</th>\n",
       "      <th>rating</th>\n",
       "      <th>link</th>\n",
       "    </tr>\n",
       "  </thead>\n",
       "  <tbody>\n",
       "    <tr>\n",
       "      <th>0</th>\n",
       "      <td>0</td>\n",
       "      <td>Koin Perak Lunar Monkey King 1oz Australia 1 o...</td>\n",
       "      <td>1,400,000.00</td>\n",
       "      <td>LAPAK OKBOS</td>\n",
       "      <td>Bekasi</td>\n",
       "      <td>0.00</td>\n",
       "      <td>0.00</td>\n",
       "      <td>https://www.bukalapak.com/p/hobi-koleksi/kolek...</td>\n",
       "    </tr>\n",
       "    <tr>\n",
       "      <th>1</th>\n",
       "      <td>1</td>\n",
       "      <td>KOIN PERAK LANGKA 10 DIRHAM PUNOKAWAN IMN HERI...</td>\n",
       "      <td>770,000.00</td>\n",
       "      <td>Royal Spot</td>\n",
       "      <td>Surabaya</td>\n",
       "      <td>0.00</td>\n",
       "      <td>0.00</td>\n",
       "      <td>https://www.bukalapak.com/p/logam-mulia/emas/4...</td>\n",
       "    </tr>\n",
       "    <tr>\n",
       "      <th>2</th>\n",
       "      <td>2</td>\n",
       "      <td>KOIN PERAK SCOTTSDALE OMNIA 1 OZ SILVER ROUND ...</td>\n",
       "      <td>799,000.00</td>\n",
       "      <td>Royal Spot</td>\n",
       "      <td>Surabaya</td>\n",
       "      <td>0.00</td>\n",
       "      <td>0.00</td>\n",
       "      <td>https://www.bukalapak.com/p/hobi-koleksi/kolek...</td>\n",
       "    </tr>\n",
       "    <tr>\n",
       "      <th>3</th>\n",
       "      <td>3</td>\n",
       "      <td>Koin Perak Britannia 2020 1 oz Silver Bullion ...</td>\n",
       "      <td>689,000.00</td>\n",
       "      <td>aminali</td>\n",
       "      <td>Jakarta Selatan</td>\n",
       "      <td>0.00</td>\n",
       "      <td>0.00</td>\n",
       "      <td>https://www.bukalapak.com/p/hobi-koleksi/kolek...</td>\n",
       "    </tr>\n",
       "    <tr>\n",
       "      <th>4</th>\n",
       "      <td>4</td>\n",
       "      <td>Koin Perak 1 oz COLOSSUS OF RHODES world wonde...</td>\n",
       "      <td>750,000.00</td>\n",
       "      <td>antik unik</td>\n",
       "      <td>Jakarta Timur</td>\n",
       "      <td>0.00</td>\n",
       "      <td>0.00</td>\n",
       "      <td>https://www.bukalapak.com/p/logam-mulia/gift-l...</td>\n",
       "    </tr>\n",
       "    <tr>\n",
       "      <th>...</th>\n",
       "      <td>...</td>\n",
       "      <td>...</td>\n",
       "      <td>...</td>\n",
       "      <td>...</td>\n",
       "      <td>...</td>\n",
       "      <td>...</td>\n",
       "      <td>...</td>\n",
       "      <td>...</td>\n",
       "    </tr>\n",
       "    <tr>\n",
       "      <th>224</th>\n",
       "      <td>177</td>\n",
       "      <td>Koin Perak Australia Lunar Pig 2019 1 oz Silve...</td>\n",
       "      <td>749,000.00</td>\n",
       "      <td>GOLD DINAR</td>\n",
       "      <td>Jakarta Timur</td>\n",
       "      <td>9.00</td>\n",
       "      <td>5.00</td>\n",
       "      <td>https://ta.tokopedia.com/promo/v1/clicks/8a-xg...</td>\n",
       "    </tr>\n",
       "    <tr>\n",
       "      <th>225</th>\n",
       "      <td>178</td>\n",
       "      <td>Koin Perak Republic Chad 2018 Mandala Lion - 1...</td>\n",
       "      <td>1,000,000.00</td>\n",
       "      <td>Nurse cell</td>\n",
       "      <td>Kab. Sukabumi</td>\n",
       "      <td>3.00</td>\n",
       "      <td>4.00</td>\n",
       "      <td>https://www.tokopedia.com/nursecell/koin-perak...</td>\n",
       "    </tr>\n",
       "    <tr>\n",
       "      <th>226</th>\n",
       "      <td>179</td>\n",
       "      <td>PRO] SILVER PERAK ISILVER NABI NUH 1oZ (31.1gr...</td>\n",
       "      <td>690,000.00</td>\n",
       "      <td>PACIH</td>\n",
       "      <td>Depok</td>\n",
       "      <td>9.00</td>\n",
       "      <td>5.00</td>\n",
       "      <td>https://www.tokopedia.com/pacih/pro-silver-per...</td>\n",
       "    </tr>\n",
       "    <tr>\n",
       "      <th>227</th>\n",
       "      <td>180</td>\n",
       "      <td>Perak Batangan Nadir - Silver Nadir Turki 100 ...</td>\n",
       "      <td>1,950,000.00</td>\n",
       "      <td>shelinlurashop</td>\n",
       "      <td>Tangerang Selatan</td>\n",
       "      <td>500.00</td>\n",
       "      <td>5.00</td>\n",
       "      <td>https://ta.tokopedia.com/promo/v1/clicks/8a-xg...</td>\n",
       "    </tr>\n",
       "    <tr>\n",
       "      <th>228</th>\n",
       "      <td>181</td>\n",
       "      <td>Perak 1 oz Australian Dragon Coin Bar 2023</td>\n",
       "      <td>600,000.00</td>\n",
       "      <td>Bullion Enthusiast</td>\n",
       "      <td>Tangerang Selatan</td>\n",
       "      <td>8.00</td>\n",
       "      <td>5.00</td>\n",
       "      <td>https://ta.tokopedia.com/promo/v1/clicks/8a-xg...</td>\n",
       "    </tr>\n",
       "  </tbody>\n",
       "</table>\n",
       "<p>229 rows × 8 columns</p>\n",
       "</div>"
      ],
      "text/plain": [
       "     Unnamed: 0                                       product_name  \\\n",
       "0             0  Koin Perak Lunar Monkey King 1oz Australia 1 o...   \n",
       "1             1  KOIN PERAK LANGKA 10 DIRHAM PUNOKAWAN IMN HERI...   \n",
       "2             2  KOIN PERAK SCOTTSDALE OMNIA 1 OZ SILVER ROUND ...   \n",
       "3             3  Koin Perak Britannia 2020 1 oz Silver Bullion ...   \n",
       "4             4  Koin Perak 1 oz COLOSSUS OF RHODES world wonde...   \n",
       "..          ...                                                ...   \n",
       "224         177  Koin Perak Australia Lunar Pig 2019 1 oz Silve...   \n",
       "225         178  Koin Perak Republic Chad 2018 Mandala Lion - 1...   \n",
       "226         179  PRO] SILVER PERAK ISILVER NABI NUH 1oZ (31.1gr...   \n",
       "227         180  Perak Batangan Nadir - Silver Nadir Turki 100 ...   \n",
       "228         181         Perak 1 oz Australian Dragon Coin Bar 2023   \n",
       "\n",
       "           price              seller           location  number_sold rating  \\\n",
       "0   1,400,000.00         LAPAK OKBOS             Bekasi         0.00   0.00   \n",
       "1     770,000.00          Royal Spot           Surabaya         0.00   0.00   \n",
       "2     799,000.00          Royal Spot           Surabaya         0.00   0.00   \n",
       "3     689,000.00             aminali    Jakarta Selatan         0.00   0.00   \n",
       "4     750,000.00          antik unik      Jakarta Timur         0.00   0.00   \n",
       "..           ...                 ...                ...          ...    ...   \n",
       "224   749,000.00          GOLD DINAR      Jakarta Timur         9.00   5.00   \n",
       "225 1,000,000.00          Nurse cell      Kab. Sukabumi         3.00   4.00   \n",
       "226   690,000.00               PACIH              Depok         9.00   5.00   \n",
       "227 1,950,000.00      shelinlurashop  Tangerang Selatan       500.00   5.00   \n",
       "228   600,000.00  Bullion Enthusiast  Tangerang Selatan         8.00   5.00   \n",
       "\n",
       "                                                  link  \n",
       "0    https://www.bukalapak.com/p/hobi-koleksi/kolek...  \n",
       "1    https://www.bukalapak.com/p/logam-mulia/emas/4...  \n",
       "2    https://www.bukalapak.com/p/hobi-koleksi/kolek...  \n",
       "3    https://www.bukalapak.com/p/hobi-koleksi/kolek...  \n",
       "4    https://www.bukalapak.com/p/logam-mulia/gift-l...  \n",
       "..                                                 ...  \n",
       "224  https://ta.tokopedia.com/promo/v1/clicks/8a-xg...  \n",
       "225  https://www.tokopedia.com/nursecell/koin-perak...  \n",
       "226  https://www.tokopedia.com/pacih/pro-silver-per...  \n",
       "227  https://ta.tokopedia.com/promo/v1/clicks/8a-xg...  \n",
       "228  https://ta.tokopedia.com/promo/v1/clicks/8a-xg...  \n",
       "\n",
       "[229 rows x 8 columns]"
      ]
     },
     "execution_count": 19,
     "metadata": {},
     "output_type": "execute_result"
    }
   ],
   "source": [
    "store_df = pd.concat([df_bupak, df_blibli, df_tokped], ignore_index=True)\n",
    "store_df"
   ]
  },
  {
   "cell_type": "code",
   "execution_count": 25,
   "metadata": {},
   "outputs": [
    {
     "name": "stdout",
     "output_type": "stream",
     "text": [
      "<class 'pandas.core.frame.DataFrame'>\n",
      "RangeIndex: 229 entries, 0 to 228\n",
      "Data columns (total 8 columns):\n",
      " #   Column        Non-Null Count  Dtype  \n",
      "---  ------        --------------  -----  \n",
      " 0   Unnamed: 0    229 non-null    int64  \n",
      " 1   product_name  229 non-null    object \n",
      " 2   price         229 non-null    float64\n",
      " 3   seller        229 non-null    object \n",
      " 4   location      229 non-null    object \n",
      " 5   number_sold   229 non-null    float64\n",
      " 6   rating        229 non-null    object \n",
      " 7   link          229 non-null    object \n",
      "dtypes: float64(2), int64(1), object(5)\n",
      "memory usage: 14.4+ KB\n"
     ]
    }
   ],
   "source": [
    "store_df.info()"
   ]
  },
  {
   "cell_type": "code",
   "execution_count": 30,
   "metadata": {},
   "outputs": [
    {
     "data": {
      "text/plain": [
       "count         229.00\n",
       "mean      820,539.51\n",
       "std       718,664.40\n",
       "min           646.80\n",
       "25%       587,020.00\n",
       "50%       699,000.00\n",
       "75%       875,000.00\n",
       "max     5,346,570.00\n",
       "Name: price, dtype: float64"
      ]
     },
     "execution_count": 30,
     "metadata": {},
     "output_type": "execute_result"
    }
   ],
   "source": [
    "store_df['price'].describe()"
   ]
  }
 ],
 "metadata": {
  "kernelspec": {
   "display_name": "base",
   "language": "python",
   "name": "python3"
  },
  "language_info": {
   "codemirror_mode": {
    "name": "ipython",
    "version": 3
   },
   "file_extension": ".py",
   "mimetype": "text/x-python",
   "name": "python",
   "nbconvert_exporter": "python",
   "pygments_lexer": "ipython3",
   "version": "3.11.4"
  }
 },
 "nbformat": 4,
 "nbformat_minor": 2
}
